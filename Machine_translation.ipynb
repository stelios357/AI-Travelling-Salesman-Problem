{
  "nbformat": 4,
  "nbformat_minor": 0,
  "metadata": {
    "colab": {
      "name": "Machine_translation.ipynb",
      "provenance": [],
      "collapsed_sections": [],
      "mount_file_id": "1-4K2HI3_RBvxi7ln2M30dSS8qpHvCFTH",
      "authorship_tag": "ABX9TyOgi3omcP2sJ9sKvpfifoJS",
      "include_colab_link": true
    },
    "kernelspec": {
      "name": "python3",
      "display_name": "Python 3"
    },
    "accelerator": "GPU"
  },
  "cells": [
    {
      "cell_type": "markdown",
      "metadata": {
        "id": "view-in-github",
        "colab_type": "text"
      },
      "source": [
        "<a href=\"https://colab.research.google.com/github/Kushagra2000/AI_project_part_1/blob/main/Machine_translation.ipynb\" target=\"_parent\"><img src=\"https://colab.research.google.com/assets/colab-badge.svg\" alt=\"Open In Colab\"/></a>"
      ]
    },
    {
      "cell_type": "code",
      "metadata": {
        "colab": {
          "base_uri": "https://localhost:8080/",
          "height": 497
        },
        "id": "a_wTnIFR8vNu",
        "outputId": "e2a0d1fc-1cf2-4ac5-a887-f8850370a43f"
      },
      "source": [
        "#imports\n",
        "%tensorflow_version 1.x\n",
        "import tensorflow as tf\n",
        "print(tf.__version__)\n",
        "from tensorflow import keras\n",
        "import pandas as pd\n",
        "import numpy as np\n",
        "import re\n",
        "import unicodedata\n",
        "from sklearn.model_selection import train_test_split\n",
        "from tensorflow.keras.layers import LSTM, Dense, TimeDistributed, Activation,InputLayer,Embedding\n",
        "from tensorflow.keras.losses import sparse_categorical_crossentropy,categorical_crossentropy\n",
        "from tensorflow.keras.models import Model\n",
        "from tensorflow.keras.optimizers import Adam\n",
        "# !pip install -q -U keras-tuner\n",
        "# import kerastuner as kt \n",
        "import IPython\n",
        "from keras.utils import to_categorical\n",
        "!pip install bleu\n",
        "from bleu import list_bleu\n",
        "\n",
        "tf.test.gpu_device_name()"
      ],
      "execution_count": null,
      "outputs": [
        {
          "output_type": "stream",
          "text": [
            "TensorFlow 1.x selected.\n",
            "1.15.2\n"
          ],
          "name": "stdout"
        },
        {
          "output_type": "stream",
          "text": [
            "Using TensorFlow backend.\n"
          ],
          "name": "stderr"
        },
        {
          "output_type": "stream",
          "text": [
            "Requirement already satisfied: bleu in /usr/local/lib/python3.6/dist-packages (0.3)\n",
            "Requirement already satisfied: efficiency in /usr/local/lib/python3.6/dist-packages (from bleu) (0.4)\n",
            "Requirement already satisfied: spacy in /usr/local/lib/python3.6/dist-packages (from efficiency->bleu) (2.2.4)\n",
            "Requirement already satisfied: requests<3.0.0,>=2.13.0 in /usr/local/lib/python3.6/dist-packages (from spacy->efficiency->bleu) (2.23.0)\n",
            "Requirement already satisfied: setuptools in /usr/local/lib/python3.6/dist-packages (from spacy->efficiency->bleu) (53.0.0)\n",
            "Requirement already satisfied: thinc==7.4.0 in /usr/local/lib/python3.6/dist-packages (from spacy->efficiency->bleu) (7.4.0)\n",
            "Requirement already satisfied: cymem<2.1.0,>=2.0.2 in /usr/local/lib/python3.6/dist-packages (from spacy->efficiency->bleu) (2.0.5)\n",
            "Requirement already satisfied: srsly<1.1.0,>=1.0.2 in /usr/local/lib/python3.6/dist-packages (from spacy->efficiency->bleu) (1.0.5)\n",
            "Requirement already satisfied: wasabi<1.1.0,>=0.4.0 in /usr/local/lib/python3.6/dist-packages (from spacy->efficiency->bleu) (0.8.2)\n",
            "Requirement already satisfied: murmurhash<1.1.0,>=0.28.0 in /usr/local/lib/python3.6/dist-packages (from spacy->efficiency->bleu) (1.0.5)\n",
            "Requirement already satisfied: catalogue<1.1.0,>=0.0.7 in /usr/local/lib/python3.6/dist-packages (from spacy->efficiency->bleu) (1.0.0)\n",
            "Requirement already satisfied: tqdm<5.0.0,>=4.38.0 in /usr/local/lib/python3.6/dist-packages (from spacy->efficiency->bleu) (4.41.1)\n",
            "Requirement already satisfied: plac<1.2.0,>=0.9.6 in /usr/local/lib/python3.6/dist-packages (from spacy->efficiency->bleu) (1.1.3)\n",
            "Requirement already satisfied: preshed<3.1.0,>=3.0.2 in /usr/local/lib/python3.6/dist-packages (from spacy->efficiency->bleu) (3.0.5)\n",
            "Requirement already satisfied: blis<0.5.0,>=0.4.0 in /usr/local/lib/python3.6/dist-packages (from spacy->efficiency->bleu) (0.4.1)\n",
            "Requirement already satisfied: numpy>=1.15.0 in /usr/local/lib/python3.6/dist-packages (from spacy->efficiency->bleu) (1.19.5)\n",
            "Requirement already satisfied: idna<3,>=2.5 in /usr/local/lib/python3.6/dist-packages (from requests<3.0.0,>=2.13.0->spacy->efficiency->bleu) (2.10)\n",
            "Requirement already satisfied: urllib3!=1.25.0,!=1.25.1,<1.26,>=1.21.1 in /usr/local/lib/python3.6/dist-packages (from requests<3.0.0,>=2.13.0->spacy->efficiency->bleu) (1.24.3)\n",
            "Requirement already satisfied: chardet<4,>=3.0.2 in /usr/local/lib/python3.6/dist-packages (from requests<3.0.0,>=2.13.0->spacy->efficiency->bleu) (3.0.4)\n",
            "Requirement already satisfied: certifi>=2017.4.17 in /usr/local/lib/python3.6/dist-packages (from requests<3.0.0,>=2.13.0->spacy->efficiency->bleu) (2020.12.5)\n",
            "Requirement already satisfied: importlib-metadata>=0.20; python_version < \"3.8\" in /usr/local/lib/python3.6/dist-packages (from catalogue<1.1.0,>=0.0.7->spacy->efficiency->bleu) (3.4.0)\n",
            "Requirement already satisfied: typing-extensions>=3.6.4; python_version < \"3.8\" in /usr/local/lib/python3.6/dist-packages (from importlib-metadata>=0.20; python_version < \"3.8\"->catalogue<1.1.0,>=0.0.7->spacy->efficiency->bleu) (3.7.4.3)\n",
            "Requirement already satisfied: zipp>=0.5 in /usr/local/lib/python3.6/dist-packages (from importlib-metadata>=0.20; python_version < \"3.8\"->catalogue<1.1.0,>=0.0.7->spacy->efficiency->bleu) (3.4.0)\n"
          ],
          "name": "stdout"
        },
        {
          "output_type": "execute_result",
          "data": {
            "application/vnd.google.colaboratory.intrinsic+json": {
              "type": "string"
            },
            "text/plain": [
              "'/device:GPU:0'"
            ]
          },
          "metadata": {
            "tags": []
          },
          "execution_count": 4
        }
      ]
    },
    {
      "cell_type": "code",
      "metadata": {
        "id": "Pjnci4B5Aywh"
      },
      "source": [
        "#reading lines from the txt file\n",
        "num_examples=20000\n",
        "with open('drive/MyDrive/deu.txt','r',encoding='utf-8') as f:\n",
        "  lines=(f.readlines())\n",
        "lines=lines[:num_examples]"
      ],
      "execution_count": null,
      "outputs": []
    },
    {
      "cell_type": "code",
      "metadata": {
        "id": "_zDt6gkPfKhs"
      },
      "source": [
        "#Hyperparameters go here\n",
        "\n",
        "test_size=0.3\n",
        "m1_lr=0.001\n",
        "m2_lr=0.005\n",
        "m1_lstm_units=64\n",
        "m2_lstm_units=64\n",
        "m1_epochs=25\n",
        "m2_epochs=30\n",
        "m1_batch_size=128\n",
        "m2_batch_size=128\n",
        "m2_embedding_col=64"
      ],
      "execution_count": null,
      "outputs": []
    },
    {
      "cell_type": "code",
      "metadata": {
        "id": "vWgVr4xOBK33"
      },
      "source": [
        "#reading the dataset\n",
        "df=pd.read_csv('drive/MyDrive/dataset.csv',index_col=0)"
      ],
      "execution_count": null,
      "outputs": []
    },
    {
      "cell_type": "code",
      "metadata": {
        "colab": {
          "base_uri": "https://localhost:8080/",
          "height": 359
        },
        "id": "yuwwIEeipzZp",
        "outputId": "d6e95afc-2749-48d0-899d-4c0a96d3b00d"
      },
      "source": [
        "df.head(10)"
      ],
      "execution_count": null,
      "outputs": [
        {
          "output_type": "execute_result",
          "data": {
            "text/html": [
              "<div>\n",
              "<style scoped>\n",
              "    .dataframe tbody tr th:only-of-type {\n",
              "        vertical-align: middle;\n",
              "    }\n",
              "\n",
              "    .dataframe tbody tr th {\n",
              "        vertical-align: top;\n",
              "    }\n",
              "\n",
              "    .dataframe thead th {\n",
              "        text-align: right;\n",
              "    }\n",
              "</style>\n",
              "<table border=\"1\" class=\"dataframe\">\n",
              "  <thead>\n",
              "    <tr style=\"text-align: right;\">\n",
              "      <th></th>\n",
              "      <th>eng</th>\n",
              "      <th>ger</th>\n",
              "    </tr>\n",
              "  </thead>\n",
              "  <tbody>\n",
              "    <tr>\n",
              "      <th>0</th>\n",
              "      <td>&lt;SOS&gt; how arrogant ! &lt;EOS&gt;</td>\n",
              "      <td>&lt;SOS&gt; wie arrogant ! &lt;EOS&gt;</td>\n",
              "    </tr>\n",
              "    <tr>\n",
              "      <th>1</th>\n",
              "      <td>&lt;SOS&gt; please get tom . &lt;EOS&gt;</td>\n",
              "      <td>&lt;SOS&gt; bitte hol tom . &lt;EOS&gt;</td>\n",
              "    </tr>\n",
              "    <tr>\n",
              "      <th>2</th>\n",
              "      <td>&lt;SOS&gt; go look for it . &lt;EOS&gt;</td>\n",
              "      <td>&lt;SOS&gt; geh es suchen ! &lt;EOS&gt;</td>\n",
              "    </tr>\n",
              "    <tr>\n",
              "      <th>3</th>\n",
              "      <td>&lt;SOS&gt; she disappeared . &lt;EOS&gt;</td>\n",
              "      <td>&lt;SOS&gt; sie verschwand . &lt;EOS&gt;</td>\n",
              "    </tr>\n",
              "    <tr>\n",
              "      <th>4</th>\n",
              "      <td>&lt;SOS&gt; that book is old . &lt;EOS&gt;</td>\n",
              "      <td>&lt;SOS&gt; das buch ist alt . &lt;EOS&gt;</td>\n",
              "    </tr>\n",
              "    <tr>\n",
              "      <th>5</th>\n",
              "      <td>&lt;SOS&gt; hold on a moment . &lt;EOS&gt;</td>\n",
              "      <td>&lt;SOS&gt; augenblick mal ! &lt;EOS&gt;</td>\n",
              "    </tr>\n",
              "    <tr>\n",
              "      <th>6</th>\n",
              "      <td>&lt;SOS&gt; what is truth ? &lt;EOS&gt;</td>\n",
              "      <td>&lt;SOS&gt; was ist wahrheit ? &lt;EOS&gt;</td>\n",
              "    </tr>\n",
              "    <tr>\n",
              "      <th>7</th>\n",
              "      <td>&lt;SOS&gt; ive been better . &lt;EOS&gt;</td>\n",
              "      <td>&lt;SOS&gt; es ging mir schon besser . &lt;EOS&gt;</td>\n",
              "    </tr>\n",
              "    <tr>\n",
              "      <th>8</th>\n",
              "      <td>&lt;SOS&gt; why is he here ? &lt;EOS&gt;</td>\n",
              "      <td>&lt;SOS&gt; warum ist er hier ? &lt;EOS&gt;</td>\n",
              "    </tr>\n",
              "    <tr>\n",
              "      <th>9</th>\n",
              "      <td>&lt;SOS&gt; hes your friend . &lt;EOS&gt;</td>\n",
              "      <td>&lt;SOS&gt; er ist dein freund . &lt;EOS&gt;</td>\n",
              "    </tr>\n",
              "  </tbody>\n",
              "</table>\n",
              "</div>"
            ],
            "text/plain": [
              "                              eng                                     ger\n",
              "0      <SOS> how arrogant ! <EOS>              <SOS> wie arrogant ! <EOS>\n",
              "1    <SOS> please get tom . <EOS>             <SOS> bitte hol tom . <EOS>\n",
              "2    <SOS> go look for it . <EOS>             <SOS> geh es suchen ! <EOS>\n",
              "3   <SOS> she disappeared . <EOS>            <SOS> sie verschwand . <EOS>\n",
              "4  <SOS> that book is old . <EOS>          <SOS> das buch ist alt . <EOS>\n",
              "5  <SOS> hold on a moment . <EOS>            <SOS> augenblick mal ! <EOS>\n",
              "6     <SOS> what is truth ? <EOS>          <SOS> was ist wahrheit ? <EOS>\n",
              "7   <SOS> ive been better . <EOS>  <SOS> es ging mir schon besser . <EOS>\n",
              "8    <SOS> why is he here ? <EOS>         <SOS> warum ist er hier ? <EOS>\n",
              "9   <SOS> hes your friend . <EOS>        <SOS> er ist dein freund . <EOS>"
            ]
          },
          "metadata": {
            "tags": []
          },
          "execution_count": 8
        }
      ]
    },
    {
      "cell_type": "code",
      "metadata": {
        "colab": {
          "base_uri": "https://localhost:8080/",
          "height": 359
        },
        "id": "DNmFdtxhtnjz",
        "outputId": "b19b37b7-0e18-4746-c090-30f907d75dbf"
      },
      "source": [
        "df.tail(10)"
      ],
      "execution_count": null,
      "outputs": [
        {
          "output_type": "execute_result",
          "data": {
            "text/html": [
              "<div>\n",
              "<style scoped>\n",
              "    .dataframe tbody tr th:only-of-type {\n",
              "        vertical-align: middle;\n",
              "    }\n",
              "\n",
              "    .dataframe tbody tr th {\n",
              "        vertical-align: top;\n",
              "    }\n",
              "\n",
              "    .dataframe thead th {\n",
              "        text-align: right;\n",
              "    }\n",
              "</style>\n",
              "<table border=\"1\" class=\"dataframe\">\n",
              "  <thead>\n",
              "    <tr style=\"text-align: right;\">\n",
              "      <th></th>\n",
              "      <th>eng</th>\n",
              "      <th>ger</th>\n",
              "    </tr>\n",
              "  </thead>\n",
              "  <tbody>\n",
              "    <tr>\n",
              "      <th>14840</th>\n",
              "      <td>&lt;SOS&gt; here is your bag . &lt;EOS&gt;</td>\n",
              "      <td>&lt;SOS&gt; deine tasche ist hier . &lt;EOS&gt;</td>\n",
              "    </tr>\n",
              "    <tr>\n",
              "      <th>14841</th>\n",
              "      <td>&lt;SOS&gt; read it aloud . &lt;EOS&gt;</td>\n",
              "      <td>&lt;SOS&gt; lies es vor . &lt;EOS&gt;</td>\n",
              "    </tr>\n",
              "    <tr>\n",
              "      <th>14842</th>\n",
              "      <td>&lt;SOS&gt; i thought hard . &lt;EOS&gt;</td>\n",
              "      <td>&lt;SOS&gt; ich dachte grundlich nach . &lt;EOS&gt;</td>\n",
              "    </tr>\n",
              "    <tr>\n",
              "      <th>14843</th>\n",
              "      <td>&lt;SOS&gt; i must obey tom . &lt;EOS&gt;</td>\n",
              "      <td>&lt;SOS&gt; ich muss tom gehorchen . &lt;EOS&gt;</td>\n",
              "    </tr>\n",
              "    <tr>\n",
              "      <th>14844</th>\n",
              "      <td>&lt;SOS&gt; we are students . &lt;EOS&gt;</td>\n",
              "      <td>&lt;SOS&gt; wir sind studenten . &lt;EOS&gt;</td>\n",
              "    </tr>\n",
              "    <tr>\n",
              "      <th>14845</th>\n",
              "      <td>&lt;SOS&gt; dont leave ! &lt;EOS&gt;</td>\n",
              "      <td>&lt;SOS&gt; gehe nicht weg ! &lt;EOS&gt;</td>\n",
              "    </tr>\n",
              "    <tr>\n",
              "      <th>14846</th>\n",
              "      <td>&lt;SOS&gt; he doesnt sleep . &lt;EOS&gt;</td>\n",
              "      <td>&lt;SOS&gt; er schlaft nicht . &lt;EOS&gt;</td>\n",
              "    </tr>\n",
              "    <tr>\n",
              "      <th>14847</th>\n",
              "      <td>&lt;SOS&gt; is tom good ? &lt;EOS&gt;</td>\n",
              "      <td>&lt;SOS&gt; ist tom brav ? &lt;EOS&gt;</td>\n",
              "    </tr>\n",
              "    <tr>\n",
              "      <th>14848</th>\n",
              "      <td>&lt;SOS&gt; didnt tom smile ? &lt;EOS&gt;</td>\n",
              "      <td>&lt;SOS&gt; tom lachelte nicht ? &lt;EOS&gt;</td>\n",
              "    </tr>\n",
              "    <tr>\n",
              "      <th>14849</th>\n",
              "      <td>&lt;SOS&gt; tom felt sad . &lt;EOS&gt;</td>\n",
              "      <td>&lt;SOS&gt; tom fuhlte sich traurig . &lt;EOS&gt;</td>\n",
              "    </tr>\n",
              "  </tbody>\n",
              "</table>\n",
              "</div>"
            ],
            "text/plain": [
              "                                  eng                                      ger\n",
              "14840  <SOS> here is your bag . <EOS>      <SOS> deine tasche ist hier . <EOS>\n",
              "14841     <SOS> read it aloud . <EOS>                <SOS> lies es vor . <EOS>\n",
              "14842    <SOS> i thought hard . <EOS>  <SOS> ich dachte grundlich nach . <EOS>\n",
              "14843   <SOS> i must obey tom . <EOS>     <SOS> ich muss tom gehorchen . <EOS>\n",
              "14844   <SOS> we are students . <EOS>         <SOS> wir sind studenten . <EOS>\n",
              "14845        <SOS> dont leave ! <EOS>             <SOS> gehe nicht weg ! <EOS>\n",
              "14846   <SOS> he doesnt sleep . <EOS>           <SOS> er schlaft nicht . <EOS>\n",
              "14847       <SOS> is tom good ? <EOS>               <SOS> ist tom brav ? <EOS>\n",
              "14848   <SOS> didnt tom smile ? <EOS>         <SOS> tom lachelte nicht ? <EOS>\n",
              "14849      <SOS> tom felt sad . <EOS>    <SOS> tom fuhlte sich traurig . <EOS>"
            ]
          },
          "metadata": {
            "tags": []
          },
          "execution_count": 9
        }
      ]
    },
    {
      "cell_type": "code",
      "metadata": {
        "id": "zctawZ8xGF_R"
      },
      "source": [
        "class Vocab_builder():\n",
        "  '''\n",
        "  Builds vocabulary and \n",
        "  word to index and index to word dictionaries\n",
        "  from dataset\n",
        "  '''\n",
        "  def __init__(self,lang,series):\n",
        "    self.lang=lang\n",
        "    self.data=series\n",
        "  def tokenize(self,line):\n",
        "    return line.split(' ')\n",
        "  def build_vocab(self):\n",
        "    self.uniq_words=set()\n",
        "    \n",
        "    self.maxlen=0\n",
        "    count=3\n",
        "    self.num_list=[]\n",
        "    for index,line in self.data.items():\n",
        "      self.word_list=self.tokenize(line)\n",
        "      self.maxlen=max(len(self.word_list),self.maxlen)\n",
        "      for word in self.word_list:\n",
        "        if(word not in self.uniq_words and word!='<EOS>' and word!='<SOS>'):\n",
        "          self.uniq_words.add(word)\n",
        "          self.num_list.append(count)\n",
        "          count+=1\n",
        "      \n",
        "    self.vocab_list=['<PAD>','<SOS>','<EOS>']+sorted(list(self.uniq_words))\n",
        "    self.num_list=[0,1,2]+self.num_list\n",
        "    print(\"Built vocabulary having {} elements\".format(len(self.vocab_list)))\n",
        "    print(\"Largest sentence length (with tags):{}\".format(self.maxlen))\n",
        "    return dict(zip(self.vocab_list,self.num_list)),dict(zip(self.num_list,self.vocab_list))\n",
        "\n",
        "\n",
        "\n",
        "\n"
      ],
      "execution_count": null,
      "outputs": []
    },
    {
      "cell_type": "code",
      "metadata": {
        "id": "0JVuh6iKohIC"
      },
      "source": [
        "#Objects of Vocab_builder class\n",
        "eng=Vocab_builder('eng',df['eng'])\n",
        "ger=Vocab_builder('ger',df['ger'])\n"
      ],
      "execution_count": null,
      "outputs": []
    },
    {
      "cell_type": "code",
      "metadata": {
        "colab": {
          "base_uri": "https://localhost:8080/"
        },
        "id": "uL4ZAsYizIsd",
        "outputId": "5314262c-bd12-4be3-913b-5c1add1145e8"
      },
      "source": [
        "#English word to index and index to word dictionaries\n",
        "eng_w2i,eng_i2w=eng.build_vocab()\n"
      ],
      "execution_count": null,
      "outputs": [
        {
          "output_type": "stream",
          "text": [
            "Built vocabulary having 3655 elements\n",
            "Largest sentence length (with tags):9\n"
          ],
          "name": "stdout"
        }
      ]
    },
    {
      "cell_type": "code",
      "metadata": {
        "colab": {
          "base_uri": "https://localhost:8080/"
        },
        "id": "TsH4pLi3zOcS",
        "outputId": "be79d012-67c2-403d-e192-88b93533caee"
      },
      "source": [
        "#checking for special characters in English dictionary\n",
        "for i in sorted (eng_w2i.keys())[:20] :  \n",
        "     print(i, end = \" \") "
      ],
      "execution_count": null,
      "outputs": [
        {
          "output_type": "stream",
          "text": [
            "! $ - . <EOS> <PAD> <SOS> ? a aah abandon abandoned abated abhor able aboard about abroad absent absurd "
          ],
          "name": "stdout"
        }
      ]
    },
    {
      "cell_type": "code",
      "metadata": {
        "id": "eWE4mEkcMF2T",
        "colab": {
          "base_uri": "https://localhost:8080/"
        },
        "outputId": "0db05745-da4f-43fb-e738-ca229b272b5a"
      },
      "source": [
        "#German word to index and index to word dictionaries\n",
        "ger_w2i,ger_i2w=ger.build_vocab()"
      ],
      "execution_count": null,
      "outputs": [
        {
          "output_type": "stream",
          "text": [
            "Built vocabulary having 4892 elements\n",
            "Largest sentence length (with tags):13\n"
          ],
          "name": "stdout"
        }
      ]
    },
    {
      "cell_type": "code",
      "metadata": {
        "colab": {
          "base_uri": "https://localhost:8080/"
        },
        "id": "QDAzP_ePoJK0",
        "outputId": "e96c7441-1820-44bf-b2a2-4ae37f7fbcc2"
      },
      "source": [
        "#checking if the index dictionaries are correct\n",
        "'geh'==ger_i2w[ger_w2i['geh']]"
      ],
      "execution_count": null,
      "outputs": [
        {
          "output_type": "execute_result",
          "data": {
            "text/plain": [
              "True"
            ]
          },
          "metadata": {
            "tags": []
          },
          "execution_count": 15
        }
      ]
    },
    {
      "cell_type": "code",
      "metadata": {
        "colab": {
          "base_uri": "https://localhost:8080/"
        },
        "id": "tylnxt3Xoqj3",
        "outputId": "1624afc8-fee7-4c6a-e1f5-802cd5514206"
      },
      "source": [
        "'go'==eng_i2w[eng_w2i['go']]"
      ],
      "execution_count": null,
      "outputs": [
        {
          "output_type": "execute_result",
          "data": {
            "text/plain": [
              "True"
            ]
          },
          "metadata": {
            "tags": []
          },
          "execution_count": 16
        }
      ]
    },
    {
      "cell_type": "code",
      "metadata": {
        "colab": {
          "base_uri": "https://localhost:8080/"
        },
        "id": "rglyUxdDxD3Z",
        "outputId": "e18e0f2d-c508-405b-e517-75d09334f166"
      },
      "source": [
        "#checking for special characters in German dictionary\n",
        "for i in sorted (ger_w2i.keys())[:20] :  \n",
        "     print(i, end = \" \") "
      ],
      "execution_count": null,
      "outputs": [
        {
          "output_type": "stream",
          "text": [
            "! $ - . <EOS> <PAD> <SOS> ? ab abbiegen abend abendbrot abendessen abenteuer aber abgefahren abgekommen abgelaufen abgelehnt abgelenkt "
          ],
          "name": "stdout"
        }
      ]
    },
    {
      "cell_type": "code",
      "metadata": {
        "id": "HctDyjqmxKuX"
      },
      "source": [
        "def sent_to_ind(sentence,lang):\n",
        "  '''\n",
        "  Tokenizes a string and\n",
        "  converts it to an np array of \n",
        "  indices and pads the \n",
        "  array according to max sentence length\n",
        "  '''\n",
        "  ind_list=[]\n",
        "  if lang=='eng':\n",
        "    tokens=eng.tokenize(sentence)\n",
        "    for token in tokens:\n",
        "      ind_list.append(eng_w2i[token])\n",
        "    while len(ind_list)<max(ger.maxlen,eng.maxlen):\n",
        "      ind_list.append(0)\n",
        "  else:\n",
        "    tokens=ger.tokenize(sentence)\n",
        "    for token in tokens:\n",
        "      ind_list.append(ger_w2i[token])\n",
        "    while len(ind_list)<max(ger.maxlen,eng.maxlen):\n",
        "      ind_list.append(0)\n",
        "    \n",
        "  return np.array(ind_list)\n",
        "\n"
      ],
      "execution_count": null,
      "outputs": []
    },
    {
      "cell_type": "code",
      "metadata": {
        "colab": {
          "base_uri": "https://localhost:8080/"
        },
        "id": "ix5EpSK3eQod",
        "outputId": "7c5aa131-280d-474b-f631-dda77d06c3d1"
      },
      "source": [
        "#Checking correctness of sentence to index conversion\n",
        "test_lis=sent_to_ind('<SOS> tom wird bald hier sein . was heißt bald ? <EOS>','ger')\n",
        "\n",
        "print(len(test_lis))\n",
        "print(test_lis)"
      ],
      "execution_count": null,
      "outputs": [
        {
          "output_type": "stream",
          "text": [
            "13\n",
            "[   1 4003 4686  309 1988 3604    6 4568 1946  309    7    2    0]\n"
          ],
          "name": "stdout"
        }
      ]
    },
    {
      "cell_type": "code",
      "metadata": {
        "colab": {
          "base_uri": "https://localhost:8080/"
        },
        "id": "YJfhMnYBhXb8",
        "outputId": "36af35d1-d2f6-4660-dce1-b4eeaadd8c3b"
      },
      "source": [
        "test_lis=sent_to_ind(\"<SOS> tom will be here soon . how soon ? <EOS>\",'eng')\n",
        "print(len(test_lis))\n",
        "print(test_lis)"
      ],
      "execution_count": null,
      "outputs": [
        {
          "output_type": "stream",
          "text": [
            "13\n",
            "[   1 3269 3557  262 1477 2927    6 1551 2927    7    2    0    0]\n"
          ],
          "name": "stdout"
        }
      ]
    },
    {
      "cell_type": "code",
      "metadata": {
        "id": "7VENEOHriC99"
      },
      "source": [
        "#splitting the data into training,testing and validation sets\n",
        "\n",
        "train_x,test_x,train_y,test_y=train_test_split(df['eng'],df['ger'],test_size=0.1,random_state=42)\n",
        "train_x,val_x,train_y,val_y=train_test_split(train_x,train_y,test_size=0.23,random_state=42)\n"
      ],
      "execution_count": null,
      "outputs": []
    },
    {
      "cell_type": "code",
      "metadata": {
        "id": "NetMWl-AtVvi"
      },
      "source": [
        "def sent_to_np(series,lang,translate_mode):\n",
        "  '''\n",
        "  Converts a dataframe column to \n",
        "  a unsqueezed np array of indexes\n",
        "  with padding for feeding into NN\n",
        "  '''\n",
        "  ret_list=[]\n",
        "  if translate_mode==False :\n",
        "    if lang=='eng':\n",
        "      for index,val in series.items():\n",
        "        ret_list.append(sent_to_ind(val,'eng'))\n",
        "    else:\n",
        "      for index,val in series.items():\n",
        "        ret_list.append(sent_to_ind(val,'ger'))\n",
        "    \n",
        "    ret_list=np.array(ret_list)\n",
        "    return np.expand_dims(ret_list,axis=2)\n",
        "  else:\n",
        "    ans=sent_to_ind(series,'eng')\n",
        "    ans=np.expand_dims(ans,axis=0)\n",
        "    ans=np.expand_dims(ans,axis=2)\n",
        "    return ans\n"
      ],
      "execution_count": null,
      "outputs": []
    },
    {
      "cell_type": "code",
      "metadata": {
        "id": "BdCHrrTaSqww"
      },
      "source": [
        "train_x=sent_to_np(train_x,'eng',False)\n",
        "train_y=sent_to_np(train_y,'ger',False)\n",
        "test_x=sent_to_np(test_x,'eng',False)\n",
        "test_y=sent_to_np(test_y,'ger',False)\n",
        "val_x=sent_to_np(val_x,'eng',False)\n",
        "val_y=sent_to_np(val_y,'ger',False)\n"
      ],
      "execution_count": null,
      "outputs": []
    },
    {
      "cell_type": "code",
      "metadata": {
        "colab": {
          "base_uri": "https://localhost:8080/"
        },
        "id": "eLHAZ_vw7un7",
        "outputId": "5ee1a944-34d9-4a39-de39-ce778dacdc3c"
      },
      "source": [
        "#one hot encoding \r\n",
        "train_y=to_categorical(train_y,num_classes=len(ger.vocab_list))\r\n",
        "test_y=to_categorical(test_y,num_classes=len(ger.vocab_list))\r\n",
        "val_y=to_categorical(val_y,num_classes=len(ger.vocab_list))\r\n",
        "print(train_y.shape)\r\n",
        "print(test_y.shape)\r\n",
        "print(val_y.shape)\r\n"
      ],
      "execution_count": null,
      "outputs": [
        {
          "output_type": "stream",
          "text": [
            "(10291, 13, 4892)\n",
            "(1485, 13, 4892)\n",
            "(3074, 13, 4892)\n"
          ],
          "name": "stdout"
        }
      ]
    },
    {
      "cell_type": "code",
      "metadata": {
        "colab": {
          "base_uri": "https://localhost:8080/"
        },
        "id": "BDpCjhQZur_O",
        "outputId": "411bcbdf-4a06-4b22-8848-da99eb05e6f0"
      },
      "source": [
        "# [batch,timesteps,feature]\n",
        "print(train_x.shape)\n",
        "print(train_y.shape)"
      ],
      "execution_count": null,
      "outputs": [
        {
          "output_type": "stream",
          "text": [
            "(10291, 13, 1)\n",
            "(10291, 13, 4892)\n"
          ],
          "name": "stdout"
        }
      ]
    },
    {
      "cell_type": "code",
      "metadata": {
        "colab": {
          "base_uri": "https://localhost:8080/"
        },
        "id": "0Frd_j1wuxz5",
        "outputId": "c0bc7142-b88d-4a83-fcbd-101b962cb55e"
      },
      "source": [
        "print(test_x.shape)\n",
        "print(test_y.shape)"
      ],
      "execution_count": null,
      "outputs": [
        {
          "output_type": "stream",
          "text": [
            "(1485, 13, 1)\n",
            "(1485, 13, 4892)\n"
          ],
          "name": "stdout"
        }
      ]
    },
    {
      "cell_type": "code",
      "metadata": {
        "colab": {
          "base_uri": "https://localhost:8080/"
        },
        "id": "s1dFoeFhuzjt",
        "outputId": "ae7d0d9d-92d9-4f23-f63c-fe8da191fd49"
      },
      "source": [
        "print(val_x.shape)\n",
        "print(val_y.shape)"
      ],
      "execution_count": null,
      "outputs": [
        {
          "output_type": "stream",
          "text": [
            "(3074, 13, 1)\n",
            "(3074, 13, 4892)\n"
          ],
          "name": "stdout"
        }
      ]
    },
    {
      "cell_type": "code",
      "metadata": {
        "id": "2Zt6VKybF7WK"
      },
      "source": [
        "def translate(sentence,mod,embedded):\n",
        "  '''\n",
        "  Function for translating given English sentence\n",
        "  to German using model predictions\n",
        "  '''\n",
        "  ans=\"\"\n",
        "  preproc_sent=process_text(sentence,True)\n",
        "  \n",
        "  model_inp=sent_to_np(preproc_sent,'eng',True)\n",
        "  if (embedded):\n",
        "    model_inp=np.squeeze(model_inp,axis=2)\n",
        "  \n",
        "  pred=mod.predict(model_inp)\n",
        "  for i in pred[0]:\n",
        "    ind=np.argmax(i)\n",
        "    if(ger_i2w[ind]=='<SOS>' or ger_i2w[ind]=='<EOS>' or ger_i2w[ind]=='<PAD>'):\n",
        "        continue\n",
        "    ans+=ger_i2w[ind]\n",
        "    ans+=\" \"\n",
        "  return ans"
      ],
      "execution_count": null,
      "outputs": []
    },
    {
      "cell_type": "code",
      "metadata": {
        "id": "u_cqENbVFpVI"
      },
      "source": [
        "#training starts here ----------------------------------------------------------"
      ],
      "execution_count": null,
      "outputs": []
    },
    {
      "cell_type": "code",
      "metadata": {
        "colab": {
          "base_uri": "https://localhost:8080/"
        },
        "id": "3jBADUl-Buhn",
        "outputId": "13c8df05-8f67-4126-90f3-7c38fc6e2f57"
      },
      "source": [
        "\n",
        "#Removing singleton axis  3rd axis\n",
        "#for embedding layer\n",
        "t_x=np.squeeze(train_x,axis=2)\n",
        "v_x=np.squeeze(val_x,axis=2)\n",
        "te_x=np.squeeze(test_x,axis=2)\n",
        "print(t_x.shape)\n",
        "print(v_x.shape)\n",
        "print(te_x.shape)"
      ],
      "execution_count": null,
      "outputs": [
        {
          "output_type": "stream",
          "text": [
            "(10291, 13)\n",
            "(3074, 13)\n",
            "(1485, 13)\n"
          ],
          "name": "stdout"
        }
      ]
    },
    {
      "cell_type": "code",
      "metadata": {
        "id": "sEFKmQmibP_y"
      },
      "source": [
        "\n",
        "def leaky_relu(x):\n",
        "    return tf.nn.leaky_relu(x, alpha=0.03)\n",
        "  \n",
        "# @tf.function\n",
        "# def bleu_score(y_true,y_pred):\n",
        "#   true_ind=[]\n",
        "#   pred_ind=[]\n",
        "#   for i in y_pred[0]:\n",
        "#     ind=np.argmax(i)\n",
        "#     if(ger_i2w[ind]=='<SOS>' or ger_i2w[ind]=='<EOS>' or ger_i2w[ind]=='<PAD>'):\n",
        "#         continue\n",
        "#     pred_ind.append(ger_i2w[ind])\n",
        "#   for i in y_true[0]:\n",
        "#     ind=np.argmax(i)\n",
        "#     if(ger_i2w[ind]=='<SOS>' or ger_i2w[ind]=='<EOS>' or ger_i2w[ind]=='<PAD>'):\n",
        "#         continue\n",
        "#     true_ind.append(ger_i2w[ind])\n",
        "#   return list_bleu([true_ind],pred_ind)\n",
        "\n",
        "\n",
        "def base_LSTM_model_HP_TUNING(hp):\n",
        "  '''\n",
        "  Simple LSTM model for hyperparameter tuning\n",
        "  '''\n",
        "  m1_lstm_units=hp.Int('units',min_value=32,max_value=128,step=32)\n",
        "  m1_lr=hp.Choice('learning_rate', values = [0.001,0.003,0.005,0.008,0.01,0.05]) \n",
        "  lstm=LSTM(m1_lstm_units,return_sequences=True,activation='tanh')  #LSTM layer with output being hiddent state at time t\n",
        "  layer_at_t=TimeDistributed(Dense(len(ger.vocab_list),activation='softmax')) #Dense layer acting on hidden output at each step to generate predictions\n",
        "  model=tf.keras.Sequential()\n",
        "  model.add(InputLayer(train_x.shape[1:]))\n",
        "  model.add(lstm)\n",
        "  model.add(layer_at_t)\n",
        "\n",
        "  model.compile(loss=categorical_crossentropy,optimizer=Adam(m1_lr),metrics=['accuracy','MeanSquaredError',tf.keras.metrics.Precision(),tf.keras.metrics.Recall()])\n",
        "  return model\n"
      ],
      "execution_count": null,
      "outputs": []
    },
    {
      "cell_type": "code",
      "metadata": {
        "id": "tQohAY2OPyV8"
      },
      "source": [
        "def embedding_LSTM_HP_TUNING(hp):\n",
        "  '''\n",
        "  LSTM model with embedding layer for hyperparameter tuning\n",
        "  '''\n",
        "  m2_lstm_units=hp.Int('units',min_value=32,max_value=128,step=32)\n",
        "  m2_lr=hp.Choice('learning_rate', values = [0.001,0.003,0.005,0.008,0.01,0.05,0.08])\n",
        "  embedding_col=hp.Int('output_dim',min_value=32,max_value=160,step=32)\n",
        "  lstm=LSTM(m2_lstm_units,return_sequences=True,activation='tanh')\n",
        "  print(t_x.shape[1])\n",
        "  embed=Embedding(len(ger.vocab_list),embedding_col,input_length=t_x.shape[1])\n",
        "  layer_at_t=TimeDistributed(Dense(len(ger.vocab_list),activation=\"softmax\"))\n",
        "  model=tf.keras.Sequential()\n",
        "  model.add(embed)\n",
        "  model.add(lstm)\n",
        "  model.add(layer_at_t)\n",
        "\n",
        "  model.compile(loss=categorical_crossentropy,optimizer=Adam(m2_lr),metrics=['accuracy','MeanSquaredError',tf.keras.metrics.Precision(),tf.keras.metrics.Recall()])\n",
        "  return model\n",
        "  "
      ],
      "execution_count": null,
      "outputs": []
    },
    {
      "cell_type": "code",
      "metadata": {
        "id": "CxxlHHvjIAjf"
      },
      "source": [
        "class ClearTrainingOutput(tf.keras.callbacks.Callback):\n",
        "  def on_train_end(*args, **kwargs):\n",
        "    IPython.display.clear_output(wait = True)\n",
        "\n"
      ],
      "execution_count": null,
      "outputs": []
    },
    {
      "cell_type": "code",
      "metadata": {
        "id": "l6eCU8-iy7Ii"
      },
      "source": [
        "#Hyperparameter tuning starts here\n",
        "#Hyperparameter tuning of base model\n",
        "tuner = kt.BayesianOptimization(base_LSTM_model_HP_TUNING,\n",
        "                     objective = 'val_accuracy', \n",
        "                     num_initial_points=50,\n",
        "                     max_trials=15,\n",
        "                     directory='./',\n",
        "                     project_name='base_LSTM')\n"
      ],
      "execution_count": null,
      "outputs": []
    },
    {
      "cell_type": "code",
      "metadata": {
        "id": "s_jHXV22JtT1",
        "colab": {
          "base_uri": "https://localhost:8080/"
        },
        "outputId": "9356eca9-f117-470e-e2a1-bc4c6b8ec9f0"
      },
      "source": [
        "tuner.search(train_x,train_y, epochs = 25, validation_data = (val_x, val_y), callbacks = [ClearTrainingOutput()])"
      ],
      "execution_count": null,
      "outputs": [
        {
          "output_type": "stream",
          "text": [
            "Trial 16 Complete [00h 02m 53s]\n",
            "val_accuracy: 0.7552497386932373\n",
            "\n",
            "Best val_accuracy So Far: 0.765637218952179\n",
            "Total elapsed time: 00h 47m 45s\n",
            "INFO:tensorflow:Oracle triggered exit\n"
          ],
          "name": "stdout"
        }
      ]
    },
    {
      "cell_type": "code",
      "metadata": {
        "id": "zRHXC9iqgFgA"
      },
      "source": [
        "best_hps1 = tuner.get_best_hyperparameters(num_trials = 1)[0]"
      ],
      "execution_count": null,
      "outputs": []
    },
    {
      "cell_type": "code",
      "metadata": {
        "colab": {
          "base_uri": "https://localhost:8080/"
        },
        "id": "QA7iXB2uieqC",
        "outputId": "c5b350f3-0052-4ec6-9b71-ee66e7fec116"
      },
      "source": [
        "best_hps1.get('units')"
      ],
      "execution_count": null,
      "outputs": [
        {
          "output_type": "execute_result",
          "data": {
            "text/plain": [
              "128"
            ]
          },
          "metadata": {
            "tags": []
          },
          "execution_count": 36
        }
      ]
    },
    {
      "cell_type": "code",
      "metadata": {
        "colab": {
          "base_uri": "https://localhost:8080/"
        },
        "id": "iaZPnvb3igA4",
        "outputId": "edf45185-7648-4e5f-e907-3f4a03fc7f3c"
      },
      "source": [
        "best_hps1.get('learning_rate')"
      ],
      "execution_count": null,
      "outputs": [
        {
          "output_type": "execute_result",
          "data": {
            "text/plain": [
              "0.001"
            ]
          },
          "metadata": {
            "tags": []
          },
          "execution_count": 37
        }
      ]
    },
    {
      "cell_type": "code",
      "metadata": {
        "colab": {
          "base_uri": "https://localhost:8080/"
        },
        "id": "bVv7aXRFioJy",
        "outputId": "7167fc26-6179-4060-cd70-c852a4882579"
      },
      "source": [
        "tuner2 = kt.BayesianOptimization(embedding_LSTM_HP_TUNING,\n",
        "                     objective = 'val_accuracy', \n",
        "                     num_initial_points=50,\n",
        "                     max_trials=30,\n",
        "                     directory='./',\n",
        "                     project_name='embedding')\n"
      ],
      "execution_count": null,
      "outputs": [
        {
          "output_type": "stream",
          "text": [
            "31\n"
          ],
          "name": "stdout"
        }
      ]
    },
    {
      "cell_type": "code",
      "metadata": {
        "colab": {
          "base_uri": "https://localhost:8080/"
        },
        "id": "351_XxE0wjvx",
        "outputId": "d721d465-7a63-4c7b-c307-5be934665b9f"
      },
      "source": [
        "tuner2.search(t_x,train_y, epochs = 15, validation_data = (v_x, val_y), callbacks = [ClearTrainingOutput()])\n"
      ],
      "execution_count": null,
      "outputs": [
        {
          "output_type": "stream",
          "text": [
            "Trial 30 Complete [00h 07m 08s]\n",
            "val_accuracy: 0.8056359887123108\n",
            "\n",
            "Best val_accuracy So Far: 0.8067874908447266\n",
            "Total elapsed time: 03h 46m 53s\n",
            "INFO:tensorflow:Oracle triggered exit\n"
          ],
          "name": "stdout"
        }
      ]
    },
    {
      "cell_type": "code",
      "metadata": {
        "id": "nuFGzxbtwkzH"
      },
      "source": [
        "best_hps2 = tuner2.get_best_hyperparameters(num_trials = 1)[0]"
      ],
      "execution_count": null,
      "outputs": []
    },
    {
      "cell_type": "code",
      "metadata": {
        "colab": {
          "base_uri": "https://localhost:8080/"
        },
        "id": "Q3PWz0b9wkwx",
        "outputId": "4e28e262-02b5-46d4-cbe7-b62db5543bda"
      },
      "source": [
        "best_hps2.get('units')"
      ],
      "execution_count": null,
      "outputs": [
        {
          "output_type": "execute_result",
          "data": {
            "text/plain": [
              "128"
            ]
          },
          "metadata": {
            "tags": []
          },
          "execution_count": 41
        }
      ]
    },
    {
      "cell_type": "code",
      "metadata": {
        "colab": {
          "base_uri": "https://localhost:8080/"
        },
        "id": "CdrijzI-wktw",
        "outputId": "27d76356-c513-49f8-f3d8-bae31c21bd26"
      },
      "source": [
        "best_hps2.get('learning_rate')"
      ],
      "execution_count": null,
      "outputs": [
        {
          "output_type": "execute_result",
          "data": {
            "text/plain": [
              "0.01"
            ]
          },
          "metadata": {
            "tags": []
          },
          "execution_count": 42
        }
      ]
    },
    {
      "cell_type": "code",
      "metadata": {
        "colab": {
          "base_uri": "https://localhost:8080/"
        },
        "id": "fAwDCBOOxPbb",
        "outputId": "c50c6b2d-9153-4c12-f565-8cabdc9f7c32"
      },
      "source": [
        "best_hps2.get('output_dim')"
      ],
      "execution_count": null,
      "outputs": [
        {
          "output_type": "execute_result",
          "data": {
            "text/plain": [
              "96"
            ]
          },
          "metadata": {
            "tags": []
          },
          "execution_count": 44
        }
      ]
    },
    {
      "cell_type": "code",
      "metadata": {
        "id": "zDRqYzYqv6uX"
      },
      "source": [
        "#Making base model using best hyperparameters\n",
        "def base_LSTM_model(m1_lstm_units,m1_lr):\n",
        "  '''\n",
        "  Simple LSTM model\n",
        "  '''\n",
        "  lstm=LSTM(m1_lstm_units,return_sequences=True,activation='tanh')  #LSTM layer with output being hiddent state at time t\n",
        "  layer_at_t=TimeDistributed(Dense(len(ger.vocab_list),activation='softmax')) #Dense layer acting on hidden output at each step to generate predictions\n",
        "  model=tf.keras.Sequential()\n",
        "  model.add(InputLayer(train_x.shape[1:]))\n",
        "  model.add(lstm)\n",
        "  model.add(layer_at_t)\n",
        "\n",
        "  model.compile(loss=categorical_crossentropy,optimizer=Adam(m1_lr),metrics=['accuracy','MeanSquaredError',tf.keras.metrics.Precision(),tf.keras.metrics.Recall()])\n",
        "  return model"
      ],
      "execution_count": null,
      "outputs": []
    },
    {
      "cell_type": "code",
      "metadata": {
        "id": "uFvJdTxXw6It"
      },
      "source": [
        "#Making embedding model using hyperparameters\n",
        "def embedding_LSTM(m2_lstm_units,m2_lr,embedding_col):\n",
        "  '''\n",
        "  LSTM model with embedding layer\n",
        "  '''\n",
        "  lstm=LSTM(m2_lstm_units,return_sequences=True,activation='tanh')\n",
        "  print(t_x.shape[1])\n",
        "  embed=Embedding(len(ger.vocab_list),embedding_col,input_length=t_x.shape[1])\n",
        "  layer_at_t=TimeDistributed(Dense(len(ger.vocab_list),activation=\"softmax\"))\n",
        "  model=tf.keras.Sequential()\n",
        "  model.add(embed)\n",
        "  model.add(lstm)\n",
        "  model.add(layer_at_t)\n",
        "\n",
        "  model.compile(loss=categorical_crossentropy,optimizer=Adam(m2_lr),metrics=['accuracy','MeanSquaredError',tf.keras.metrics.Precision(),tf.keras.metrics.Recall()])\n",
        "  return model"
      ],
      "execution_count": null,
      "outputs": []
    },
    {
      "cell_type": "code",
      "metadata": {
        "id": "fWOrrfsRNOcT",
        "colab": {
          "base_uri": "https://localhost:8080/"
        },
        "outputId": "27995e74-70da-4e15-8db8-1f47b2ac9efd"
      },
      "source": [
        "base_model=base_LSTM_model(128,0.001)\n",
        "base_model.summary()"
      ],
      "execution_count": null,
      "outputs": [
        {
          "output_type": "stream",
          "text": [
            "Model: \"sequential_3\"\n",
            "_________________________________________________________________\n",
            "Layer (type)                 Output Shape              Param #   \n",
            "=================================================================\n",
            "lstm_3 (LSTM)                (None, 13, 128)           66560     \n",
            "_________________________________________________________________\n",
            "time_distributed_3 (TimeDist (None, 13, 4892)          631068    \n",
            "=================================================================\n",
            "Total params: 697,628\n",
            "Trainable params: 697,628\n",
            "Non-trainable params: 0\n",
            "_________________________________________________________________\n"
          ],
          "name": "stdout"
        }
      ]
    },
    {
      "cell_type": "code",
      "metadata": {
        "colab": {
          "base_uri": "https://localhost:8080/"
        },
        "id": "Bzsf600cPN9w",
        "outputId": "04c691d6-48b9-4dad-c56f-40c7ed8039d5"
      },
      "source": [
        "#training the base model\n",
        "\n",
        "base_model.fit(train_x,train_y,m1_batch_size,m1_epochs,validation_data=(val_x,val_y))\n"
      ],
      "execution_count": null,
      "outputs": [
        {
          "output_type": "stream",
          "text": [
            "WARNING:tensorflow:From /tensorflow-1.15.2/python3.6/tensorflow_core/python/ops/math_grad.py:1424: where (from tensorflow.python.ops.array_ops) is deprecated and will be removed in a future version.\n",
            "Instructions for updating:\n",
            "Use tf.where in 2.0, which has the same broadcast rule as np.where\n",
            "Train on 10291 samples, validate on 3074 samples\n",
            "Epoch 1/25\n",
            "10291/10291 [==============================] - 6s 630us/sample - loss: 4.3647 - acc: 0.5011 - mean_squared_error: 1.4518e-04 - precision: 0.8667 - recall: 0.2817 - val_loss: 2.7100 - val_acc: 0.5436 - val_mean_squared_error: 1.0363e-04 - val_precision: 0.9229 - val_recall: 0.4866\n",
            "Epoch 2/25\n",
            "10291/10291 [==============================] - 4s 417us/sample - loss: 2.6187 - acc: 0.6354 - mean_squared_error: 1.0137e-04 - precision: 0.9243 - recall: 0.4841 - val_loss: 2.5755 - val_acc: 0.6543 - val_mean_squared_error: 1.0003e-04 - val_precision: 0.9230 - val_recall: 0.4868\n",
            "Epoch 3/25\n",
            "10291/10291 [==============================] - 4s 416us/sample - loss: 2.4733 - acc: 0.6553 - mean_squared_error: 9.9661e-05 - precision: 0.9265 - recall: 0.4821 - val_loss: 2.4020 - val_acc: 0.6469 - val_mean_squared_error: 9.8912e-05 - val_precision: 0.9236 - val_recall: 0.4865\n",
            "Epoch 4/25\n",
            "10291/10291 [==============================] - 4s 412us/sample - loss: 2.2162 - acc: 0.6604 - mean_squared_error: 9.7923e-05 - precision: 0.9271 - recall: 0.4830 - val_loss: 2.0814 - val_acc: 0.6631 - val_mean_squared_error: 9.4069e-05 - val_precision: 0.9210 - val_recall: 0.4892\n",
            "Epoch 5/25\n",
            "10291/10291 [==============================] - 4s 410us/sample - loss: 1.9334 - acc: 0.6624 - mean_squared_error: 8.6584e-05 - precision: 0.9288 - recall: 0.5355 - val_loss: 1.9274 - val_acc: 0.6628 - val_mean_squared_error: 8.2672e-05 - val_precision: 0.9280 - val_recall: 0.5705\n",
            "Epoch 6/25\n",
            "10291/10291 [==============================] - 4s 412us/sample - loss: 1.8639 - acc: 0.6631 - mean_squared_error: 8.2548e-05 - precision: 0.9236 - recall: 0.5718 - val_loss: 1.9042 - val_acc: 0.6632 - val_mean_squared_error: 8.1941e-05 - val_precision: 0.9224 - val_recall: 0.5769\n",
            "Epoch 7/25\n",
            "10291/10291 [==============================] - 4s 407us/sample - loss: 1.8423 - acc: 0.6651 - mean_squared_error: 8.2114e-05 - precision: 0.9231 - recall: 0.5744 - val_loss: 1.8932 - val_acc: 0.6810 - val_mean_squared_error: 8.1711e-05 - val_precision: 0.9213 - val_recall: 0.5774\n",
            "Epoch 8/25\n",
            "10291/10291 [==============================] - 4s 415us/sample - loss: 1.8264 - acc: 0.6674 - mean_squared_error: 8.1825e-05 - precision: 0.9195 - recall: 0.5776 - val_loss: 1.8868 - val_acc: 0.6629 - val_mean_squared_error: 8.1419e-05 - val_precision: 0.8990 - val_recall: 0.5985\n",
            "Epoch 9/25\n",
            "10291/10291 [==============================] - 4s 422us/sample - loss: 1.8123 - acc: 0.6732 - mean_squared_error: 8.1588e-05 - precision: 0.9173 - recall: 0.5805 - val_loss: 1.8733 - val_acc: 0.6827 - val_mean_squared_error: 8.1034e-05 - val_precision: 0.9226 - val_recall: 0.5793\n",
            "Epoch 10/25\n",
            "10291/10291 [==============================] - 4s 430us/sample - loss: 1.7968 - acc: 0.6786 - mean_squared_error: 8.1231e-05 - precision: 0.9183 - recall: 0.5810 - val_loss: 1.8618 - val_acc: 0.6838 - val_mean_squared_error: 8.0724e-05 - val_precision: 0.9312 - val_recall: 0.5741\n",
            "Epoch 11/25\n",
            "10291/10291 [==============================] - 4s 434us/sample - loss: 1.7800 - acc: 0.6819 - mean_squared_error: 8.0831e-05 - precision: 0.9163 - recall: 0.5837 - val_loss: 1.8470 - val_acc: 0.6887 - val_mean_squared_error: 8.0248e-05 - val_precision: 0.9154 - val_recall: 0.5856\n",
            "Epoch 12/25\n",
            "10291/10291 [==============================] - 4s 420us/sample - loss: 1.7624 - acc: 0.6862 - mean_squared_error: 8.0277e-05 - precision: 0.9166 - recall: 0.5839 - val_loss: 1.8340 - val_acc: 0.6897 - val_mean_squared_error: 7.9661e-05 - val_precision: 0.9167 - val_recall: 0.5835\n",
            "Epoch 13/25\n",
            "10291/10291 [==============================] - 4s 414us/sample - loss: 1.7416 - acc: 0.6885 - mean_squared_error: 7.9682e-05 - precision: 0.9145 - recall: 0.5864 - val_loss: 1.8160 - val_acc: 0.6922 - val_mean_squared_error: 7.8994e-05 - val_precision: 0.9115 - val_recall: 0.5893\n",
            "Epoch 14/25\n",
            "10291/10291 [==============================] - 4s 428us/sample - loss: 1.7225 - acc: 0.6897 - mean_squared_error: 7.9163e-05 - precision: 0.9145 - recall: 0.5866 - val_loss: 1.8025 - val_acc: 0.6916 - val_mean_squared_error: 7.8679e-05 - val_precision: 0.9118 - val_recall: 0.5892\n",
            "Epoch 15/25\n",
            "10291/10291 [==============================] - 4s 421us/sample - loss: 1.7050 - acc: 0.6914 - mean_squared_error: 7.8733e-05 - precision: 0.9110 - recall: 0.5896 - val_loss: 1.7979 - val_acc: 0.6898 - val_mean_squared_error: 7.8497e-05 - val_precision: 0.9250 - val_recall: 0.5800\n",
            "Epoch 16/25\n",
            "10291/10291 [==============================] - 4s 413us/sample - loss: 1.6909 - acc: 0.6930 - mean_squared_error: 7.8439e-05 - precision: 0.9119 - recall: 0.5894 - val_loss: 1.7830 - val_acc: 0.6937 - val_mean_squared_error: 7.8004e-05 - val_precision: 0.9020 - val_recall: 0.6008\n",
            "Epoch 17/25\n",
            "10291/10291 [==============================] - 4s 420us/sample - loss: 1.6774 - acc: 0.6946 - mean_squared_error: 7.8147e-05 - precision: 0.9089 - recall: 0.5926 - val_loss: 1.7759 - val_acc: 0.6940 - val_mean_squared_error: 7.7876e-05 - val_precision: 0.9191 - val_recall: 0.5858\n",
            "Epoch 18/25\n",
            "10291/10291 [==============================] - 4s 416us/sample - loss: 1.6649 - acc: 0.6960 - mean_squared_error: 7.7915e-05 - precision: 0.9092 - recall: 0.5928 - val_loss: 1.7654 - val_acc: 0.6940 - val_mean_squared_error: 7.7772e-05 - val_precision: 0.9341 - val_recall: 0.5742\n",
            "Epoch 19/25\n",
            "10291/10291 [==============================] - 4s 423us/sample - loss: 1.6530 - acc: 0.6975 - mean_squared_error: 7.7679e-05 - precision: 0.9100 - recall: 0.5936 - val_loss: 1.7564 - val_acc: 0.6996 - val_mean_squared_error: 7.7286e-05 - val_precision: 0.9106 - val_recall: 0.5955\n",
            "Epoch 20/25\n",
            "10291/10291 [==============================] - 4s 413us/sample - loss: 1.6409 - acc: 0.6982 - mean_squared_error: 7.7495e-05 - precision: 0.9087 - recall: 0.5963 - val_loss: 1.7520 - val_acc: 0.6997 - val_mean_squared_error: 7.7143e-05 - val_precision: 0.9117 - val_recall: 0.5939\n",
            "Epoch 21/25\n",
            "10291/10291 [==============================] - 4s 420us/sample - loss: 1.6336 - acc: 0.6979 - mean_squared_error: 7.7477e-05 - precision: 0.9082 - recall: 0.5963 - val_loss: 1.7520 - val_acc: 0.7006 - val_mean_squared_error: 7.7310e-05 - val_precision: 0.9021 - val_recall: 0.6012\n",
            "Epoch 22/25\n",
            "10291/10291 [==============================] - 4s 418us/sample - loss: 1.6239 - acc: 0.6984 - mean_squared_error: 7.7336e-05 - precision: 0.9072 - recall: 0.5994 - val_loss: 1.7436 - val_acc: 0.7003 - val_mean_squared_error: 7.6906e-05 - val_precision: 0.9081 - val_recall: 0.6132\n",
            "Epoch 23/25\n",
            "10291/10291 [==============================] - 4s 413us/sample - loss: 1.6147 - acc: 0.6991 - mean_squared_error: 7.7147e-05 - precision: 0.9051 - recall: 0.6052 - val_loss: 1.7412 - val_acc: 0.7007 - val_mean_squared_error: 7.7013e-05 - val_precision: 0.9085 - val_recall: 0.5989\n",
            "Epoch 24/25\n",
            "10291/10291 [==============================] - 4s 425us/sample - loss: 1.6062 - acc: 0.6999 - mean_squared_error: 7.7041e-05 - precision: 0.9052 - recall: 0.6065 - val_loss: 1.7357 - val_acc: 0.7012 - val_mean_squared_error: 7.6703e-05 - val_precision: 0.8978 - val_recall: 0.6204\n",
            "Epoch 25/25\n",
            "10291/10291 [==============================] - 4s 436us/sample - loss: 1.5985 - acc: 0.6998 - mean_squared_error: 7.6949e-05 - precision: 0.9033 - recall: 0.6121 - val_loss: 1.7299 - val_acc: 0.7026 - val_mean_squared_error: 7.6595e-05 - val_precision: 0.8930 - val_recall: 0.6149\n"
          ],
          "name": "stdout"
        },
        {
          "output_type": "execute_result",
          "data": {
            "text/plain": [
              "<tensorflow.python.keras.callbacks.History at 0x7f2db5384ac8>"
            ]
          },
          "metadata": {
            "tags": []
          },
          "execution_count": 33
        }
      ]
    },
    {
      "cell_type": "code",
      "metadata": {
        "colab": {
          "base_uri": "https://localhost:8080/"
        },
        "id": "9nDxB8O0Dr33",
        "outputId": "b27e8b72-27a8-4800-bab2-340733b745d8"
      },
      "source": [
        "#Evaluating LSTM model on unseen data\n",
        "\n",
        "l,acc,mse,p,r=base_model.evaluate(test_x,test_y)\n",
        "print(\"Base model loss for testing set:{}\".format(l))\n",
        "print(\"Base model MSE for testing set:{}\".format(mse))\n",
        "print(\"Base model accuracy for testing set:{}\".format(acc))\n",
        "print(\"Base model precision for testing set:{}\".format(p))\n",
        "print(\"Base model recall for testing set:{}\".format(r))\n",
        "print(\"Base model f1_score for testing set:{}\".format((2*p*r)/(p+r)))"
      ],
      "execution_count": null,
      "outputs": [
        {
          "output_type": "stream",
          "text": [
            "1485/1485 [==============================] - 1s 400us/sample - loss: 1.7264 - acc: 0.7080 - mean_squared_error: 7.6027e-05 - precision_7: 0.8947 - recall_6: 0.6224\n",
            "Base model loss for testing set:1.7263565836530743\n",
            "Base model accuracy for testing set:0.7080031037330627\n",
            "Base model precision for testing set:0.8947054743766785\n",
            "Base model recall for testing set:0.6223776340484619\n",
            "Base model f1_score for testing set:0.73409907650077\n"
          ],
          "name": "stdout"
        }
      ]
    },
    {
      "cell_type": "code",
      "metadata": {
        "id": "-V7nQnNrM6ck",
        "colab": {
          "base_uri": "https://localhost:8080/",
          "height": 35
        },
        "outputId": "2be4360f-6157-4e3c-8c20-0c2bf7aa7bff"
      },
      "source": [
        "#Sample translation by base LSTM model\n",
        "translate(\"work here\",base_model,False)"
      ],
      "execution_count": null,
      "outputs": [
        {
          "output_type": "execute_result",
          "data": {
            "application/vnd.google.colaboratory.intrinsic+json": {
              "type": "string"
            },
            "text/plain": [
              "'tom ist ! ! '"
            ]
          },
          "metadata": {
            "tags": []
          },
          "execution_count": 87
        }
      ]
    },
    {
      "cell_type": "code",
      "metadata": {
        "colab": {
          "base_uri": "https://localhost:8080/"
        },
        "id": "eB5CvJLV5LzC",
        "outputId": "71e13463-0b85-4f0b-dbb2-4f9eafc3c337"
      },
      "source": [
        "embeded_model=embedding_LSTM(128,0.01,96)\n",
        "embeded_model.summary()"
      ],
      "execution_count": null,
      "outputs": [
        {
          "output_type": "stream",
          "text": [
            "13\n",
            "WARNING:tensorflow:From /tensorflow-1.15.2/python3.6/tensorflow_core/python/keras/initializers.py:119: calling RandomUniform.__init__ (from tensorflow.python.ops.init_ops) with dtype is deprecated and will be removed in a future version.\n",
            "Instructions for updating:\n",
            "Call initializer instance with the dtype argument instead of passing it to the constructor\n",
            "WARNING:tensorflow:From /tensorflow-1.15.2/python3.6/tensorflow_core/python/ops/resource_variable_ops.py:1630: calling BaseResourceVariable.__init__ (from tensorflow.python.ops.resource_variable_ops) with constraint is deprecated and will be removed in a future version.\n",
            "Instructions for updating:\n",
            "If using Keras pass *_constraint arguments to layers.\n",
            "Model: \"sequential\"\n",
            "_________________________________________________________________\n",
            "Layer (type)                 Output Shape              Param #   \n",
            "=================================================================\n",
            "embedding (Embedding)        (None, 13, 96)            469632    \n",
            "_________________________________________________________________\n",
            "lstm (LSTM)                  (None, 13, 128)           115200    \n",
            "_________________________________________________________________\n",
            "time_distributed (TimeDistri (None, 13, 4892)          631068    \n",
            "=================================================================\n",
            "Total params: 1,215,900\n",
            "Trainable params: 1,215,900\n",
            "Non-trainable params: 0\n",
            "_________________________________________________________________\n"
          ],
          "name": "stdout"
        }
      ]
    },
    {
      "cell_type": "code",
      "metadata": {
        "colab": {
          "base_uri": "https://localhost:8080/"
        },
        "id": "oUWKsmwb5bZB",
        "outputId": "be15cc2b-de2d-496f-81e7-364815185f1b"
      },
      "source": [
        "#training embedding model\n",
        "embeded_model.fit(t_x,train_y,batch_size=128,epochs=15,validation_data=(v_x,val_y))"
      ],
      "execution_count": null,
      "outputs": [
        {
          "output_type": "stream",
          "text": [
            "WARNING:tensorflow:From /tensorflow-1.15.2/python3.6/tensorflow_core/python/ops/math_grad.py:1424: where (from tensorflow.python.ops.array_ops) is deprecated and will be removed in a future version.\n",
            "Instructions for updating:\n",
            "Use tf.where in 2.0, which has the same broadcast rule as np.where\n",
            "Train on 10291 samples, validate on 3074 samples\n",
            "Epoch 1/15\n",
            "10291/10291 [==============================] - 7s 653us/sample - loss: 3.0208 - acc: 0.5962 - mean_squared_error: 1.0913e-04 - precision: 0.8397 - recall: 0.4952 - val_loss: 2.2759 - val_acc: 0.6687 - val_mean_squared_error: 8.0113e-05 - val_precision: 0.9534 - val_recall: 0.5718\n",
            "Epoch 2/15\n",
            "10291/10291 [==============================] - 4s 422us/sample - loss: 2.1154 - acc: 0.7076 - mean_squared_error: 7.4028e-05 - precision: 0.9279 - recall: 0.6405 - val_loss: 2.0116 - val_acc: 0.7297 - val_mean_squared_error: 6.9301e-05 - val_precision: 0.9300 - val_recall: 0.6699\n",
            "Epoch 3/15\n",
            "10291/10291 [==============================] - 4s 425us/sample - loss: 1.6511 - acc: 0.7483 - mean_squared_error: 6.4648e-05 - precision: 0.9284 - recall: 0.6946 - val_loss: 1.5161 - val_acc: 0.7567 - val_mean_squared_error: 6.3260e-05 - val_precision: 0.9188 - val_recall: 0.7021\n",
            "Epoch 4/15\n",
            "10291/10291 [==============================] - 4s 422us/sample - loss: 1.3231 - acc: 0.7785 - mean_squared_error: 5.7593e-05 - precision: 0.9316 - recall: 0.7333 - val_loss: 1.3896 - val_acc: 0.7783 - val_mean_squared_error: 5.9204e-05 - val_precision: 0.9142 - val_recall: 0.7367\n",
            "Epoch 5/15\n",
            "10291/10291 [==============================] - 4s 423us/sample - loss: 1.1392 - acc: 0.8014 - mean_squared_error: 5.2839e-05 - precision: 0.9339 - recall: 0.7580 - val_loss: 1.3151 - val_acc: 0.7906 - val_mean_squared_error: 5.7333e-05 - val_precision: 0.9130 - val_recall: 0.7447\n",
            "Epoch 6/15\n",
            "10291/10291 [==============================] - 4s 424us/sample - loss: 0.9962 - acc: 0.8171 - mean_squared_error: 4.9518e-05 - precision: 0.9356 - recall: 0.7732 - val_loss: 1.2604 - val_acc: 0.7999 - val_mean_squared_error: 5.5663e-05 - val_precision: 0.9124 - val_recall: 0.7558\n",
            "Epoch 7/15\n",
            "10291/10291 [==============================] - 4s 425us/sample - loss: 0.8774 - acc: 0.8295 - mean_squared_error: 4.6668e-05 - precision: 0.9379 - recall: 0.7853 - val_loss: 1.2260 - val_acc: 0.8035 - val_mean_squared_error: 5.4969e-05 - val_precision: 0.9071 - val_recall: 0.7621\n",
            "Epoch 8/15\n",
            "10291/10291 [==============================] - 4s 423us/sample - loss: 0.7744 - acc: 0.8427 - mean_squared_error: 4.3943e-05 - precision: 0.9399 - recall: 0.7975 - val_loss: 1.1994 - val_acc: 0.8104 - val_mean_squared_error: 5.3968e-05 - val_precision: 0.9081 - val_recall: 0.7693\n",
            "Epoch 9/15\n",
            "10291/10291 [==============================] - 4s 428us/sample - loss: 0.6856 - acc: 0.8557 - mean_squared_error: 4.1206e-05 - precision: 0.9427 - recall: 0.8088 - val_loss: 1.1874 - val_acc: 0.8106 - val_mean_squared_error: 5.3859e-05 - val_precision: 0.9066 - val_recall: 0.7686\n",
            "Epoch 10/15\n",
            "10291/10291 [==============================] - 4s 427us/sample - loss: 0.6132 - acc: 0.8667 - mean_squared_error: 3.8853e-05 - precision: 0.9447 - recall: 0.8188 - val_loss: 1.1819 - val_acc: 0.8122 - val_mean_squared_error: 5.3898e-05 - val_precision: 0.9028 - val_recall: 0.7732\n",
            "Epoch 11/15\n",
            "10291/10291 [==============================] - 4s 423us/sample - loss: 0.5495 - acc: 0.8770 - mean_squared_error: 3.6377e-05 - precision: 0.9459 - recall: 0.8291 - val_loss: 1.1819 - val_acc: 0.8142 - val_mean_squared_error: 5.3711e-05 - val_precision: 0.8989 - val_recall: 0.7793\n",
            "Epoch 12/15\n",
            "10291/10291 [==============================] - 4s 423us/sample - loss: 0.4963 - acc: 0.8868 - mean_squared_error: 3.3809e-05 - precision: 0.9480 - recall: 0.8410 - val_loss: 1.1882 - val_acc: 0.8166 - val_mean_squared_error: 5.3555e-05 - val_precision: 0.8957 - val_recall: 0.7846\n",
            "Epoch 13/15\n",
            "10291/10291 [==============================] - 4s 425us/sample - loss: 0.4545 - acc: 0.8940 - mean_squared_error: 3.1728e-05 - precision: 0.9488 - recall: 0.8520 - val_loss: 1.1938 - val_acc: 0.8166 - val_mean_squared_error: 5.3764e-05 - val_precision: 0.8953 - val_recall: 0.7867\n",
            "Epoch 14/15\n",
            "10291/10291 [==============================] - 4s 425us/sample - loss: 0.4154 - acc: 0.9025 - mean_squared_error: 2.9501e-05 - precision: 0.9509 - recall: 0.8635 - val_loss: 1.1971 - val_acc: 0.8161 - val_mean_squared_error: 5.3590e-05 - val_precision: 0.8931 - val_recall: 0.7869\n",
            "Epoch 15/15\n",
            "10291/10291 [==============================] - 4s 423us/sample - loss: 0.3867 - acc: 0.9083 - mean_squared_error: 2.7775e-05 - precision: 0.9535 - recall: 0.8724 - val_loss: 1.2117 - val_acc: 0.8151 - val_mean_squared_error: 5.4231e-05 - val_precision: 0.8892 - val_recall: 0.7895\n"
          ],
          "name": "stdout"
        },
        {
          "output_type": "execute_result",
          "data": {
            "text/plain": [
              "<tensorflow.python.keras.callbacks.History at 0x7f6cec8a0908>"
            ]
          },
          "metadata": {
            "tags": []
          },
          "execution_count": 69
        }
      ]
    },
    {
      "cell_type": "code",
      "metadata": {
        "colab": {
          "base_uri": "https://localhost:8080/"
        },
        "id": "UjapHrel-XV3",
        "outputId": "9398bcc0-053a-48f8-fb7e-613da9b6e301"
      },
      "source": [
        "l,acc,mse,p,r=embeded_model.evaluate(te_x,test_y)\n",
        "print(\"Embedded model loss for testing set:{}\".format(l))\n",
        "print(\"Embedded model accuracy for testing set:{}\".format(acc))\n",
        "print(\"Embedded model MSE for testing set:{}\".format(mse))\n",
        "print(\"Embedded model precision for testing set:{}\".format(p))\n",
        "print(\"Embedded model recall for testing set:{}\".format(r))\n",
        "print(\"Embedded model f1_score for testing set:{}\".format((2*p*r)/(p+r)))\n"
      ],
      "execution_count": null,
      "outputs": [
        {
          "output_type": "stream",
          "text": [
            "1485/1485 [==============================] - 1s 381us/sample - loss: 1.1935 - acc: 0.8192 - mean_squared_error: 5.4272e-05 - precision: 0.8893 - recall: 0.7891\n",
            "Embedded model loss for testing set:1.1935346513886242\n",
            "Embedded model accuracy for testing set:0.8191660046577454\n",
            "Embedded model MSE for testing set:5.42717389180325e-05\n",
            "Embedded model precision for testing set:0.889258623123169\n",
            "Embedded model recall for testing set:0.789070188999176\n",
            "Embedded model f1_score for testing set:0.836174043689984\n"
          ],
          "name": "stdout"
        }
      ]
    },
    {
      "cell_type": "code",
      "metadata": {
        "id": "jS2mEhvO-0kE",
        "colab": {
          "base_uri": "https://localhost:8080/",
          "height": 35
        },
        "outputId": "1f030581-4ca2-45e5-c18e-f0612b42e03e"
      },
      "source": [
        "translate(\"I am so small\",embeded_model,True)"
      ],
      "execution_count": null,
      "outputs": [
        {
          "output_type": "execute_result",
          "data": {
            "application/vnd.google.colaboratory.intrinsic+json": {
              "type": "string"
            },
            "text/plain": [
              "'ich bin so klein . '"
            ]
          },
          "metadata": {
            "tags": []
          },
          "execution_count": 79
        }
      ]
    },
    {
      "cell_type": "code",
      "metadata": {
        "id": "GtRyMtkgul-z"
      },
      "source": [
        ""
      ],
      "execution_count": null,
      "outputs": []
    },
    {
      "cell_type": "code",
      "metadata": {
        "id": "hvwRH3HrGZkf"
      },
      "source": [
        ""
      ],
      "execution_count": null,
      "outputs": []
    },
    {
      "cell_type": "code",
      "metadata": {
        "id": "ZPTRowYDGhwJ"
      },
      "source": [
        ""
      ],
      "execution_count": null,
      "outputs": []
    }
  ]
}